{
 "cells": [
  {
   "cell_type": "code",
   "execution_count": null,
   "id": "9a58107e-695e-42df-ac85-529987905256",
   "metadata": {},
   "outputs": [],
   "source": []
  }
 ],
 "metadata": {
  "kernelspec": {
   "display_name": "",
   "name": ""
  },
  "language_info": {
   "name": ""
  }
 },
 "nbformat": 4,
 "nbformat_minor": 5
}
