{
 "cells": [
  {
   "cell_type": "markdown",
   "id": "c9608e6a-39b2-408a-bb21-00a191335ec6",
   "metadata": {},
   "source": [
    "# Question 4: Use Webscraping to Extract GameStop Revenue Data"
   ]
  },
  {
   "cell_type": "markdown",
   "id": "26f5360f-cd38-492b-a0d6-af72a3117b5a",
   "metadata": {},
   "source": [
    "## Step 1: Import Libraries"
   ]
  },
  {
   "cell_type": "code",
   "execution_count": null,
   "id": "3f47d600-7c99-4f94-b1cd-1d744441acb1",
   "metadata": {},
   "outputs": [],
   "source": [
    "import requests\n",
    "import pandas as pd"
   ]
  },
  {
   "cell_type": "markdown",
   "id": "d2c82152-e2e2-43c6-b8ba-f25250e314c8",
   "metadata": {},
   "source": [
    "## Step 2: Set URL and Headers"
   ]
  },
  {
   "cell_type": "code",
   "execution_count": null,
   "id": "383a5fd2-b5b9-4a56-ba61-747b42425a7b",
   "metadata": {},
   "outputs": [],
   "source": [
    "url = \"https://www.macrotrends.net/stocks/charts/GME/gamestop/revenue\"\n",
    "headers = {\n",
    "    \"User-Agent\": \"Mozilla/5.0 (Windows NT 10.0; Win64; x64) \"\n",
    "                  \"AppleWebKit/537.36 (KHTML, like Gecko) \"\n",
    "                  \"Chrome/114.0.0.0 Safari/537.36\"\n",
    "}"
   ]
  },
  {
   "cell_type": "markdown",
   "id": "01bd957c-6061-4bb1-81ed-28023b4bb3b3",
   "metadata": {},
   "source": [
    "\n",
    "## Step 3: Request Webpage Content"
   ]
  },
  {
   "cell_type": "code",
   "execution_count": null,
   "id": "3b2f9409-b762-402c-8ae0-ab4b6c7d1140",
   "metadata": {},
   "outputs": [],
   "source": [
    "response = requests.get(url, headers=headers)"
   ]
  },
  {
   "cell_type": "markdown",
   "id": "30d2d492-2e64-4272-b4dc-1d8c20ed4d37",
   "metadata": {},
   "source": [
    "## Step 4: Extract Revenue Tables with pandas"
   ]
  },
  {
   "cell_type": "code",
   "execution_count": null,
   "id": "23ac7765-ace1-4b77-9ff5-14cd61f15858",
   "metadata": {},
   "outputs": [],
   "source": [
    "tables = pd.read_html(response.text)\n",
    "print(f\"Number of tables found: {len(tables)}\")"
   ]
  },
  {
   "cell_type": "markdown",
   "id": "cffd903f-0813-4830-9168-6abb88db4ddf",
   "metadata": {},
   "source": [
    "## Step 5: Clean and Prepare the Revenue Data"
   ]
  },
  {
   "cell_type": "code",
   "execution_count": null,
   "id": "dda39056-afc5-40ec-ae3f-f4251bc2a33b",
   "metadata": {},
   "outputs": [],
   "source": [
    "gme_revenue_df = tables[1] \n",
    "gme_revenue_df.columns = ['Date', 'Revenue']\n",
    "gme_revenue_df.dropna(inplace=True)"
   ]
  }
 ],
 "metadata": {
  "kernelspec": {
   "display_name": "Python 3 (ipykernel)",
   "language": "python",
   "name": "python3"
  },
  "language_info": {
   "codemirror_mode": {
    "name": "ipython",
    "version": 3
   },
   "file_extension": ".py",
   "mimetype": "text/x-python",
   "name": "python",
   "nbconvert_exporter": "python",
   "pygments_lexer": "ipython3",
   "version": "3.12.7"
  }
 },
 "nbformat": 4,
 "nbformat_minor": 5
}
