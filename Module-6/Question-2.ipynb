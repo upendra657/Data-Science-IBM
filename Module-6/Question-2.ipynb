{
 "cells": [
  {
   "cell_type": "markdown",
   "id": "00b35324-e3d8-41af-b3ac-53c5ec543898",
   "metadata": {},
   "source": [
    "# Question 2: Use Webscraping to Extract Tesla Revenue Data"
   ]
  },
  {
   "cell_type": "markdown",
   "id": "92bb49c1-cb2e-412a-90c2-cd1ba3947fa6",
   "metadata": {},
   "source": [
    "# Import necessary libraries"
   ]
  },
  {
   "cell_type": "code",
   "execution_count": 1,
   "id": "130df827-ce9b-44d1-abce-0000a9bfbeb6",
   "metadata": {},
   "outputs": [],
   "source": [
    "import requests\n",
    "import pandas as pd"
   ]
  },
  {
   "cell_type": "markdown",
   "id": "c48b1b10-bebc-4f8c-bb54-fde4217ebf38",
   "metadata": {},
   "source": [
    "\n",
    "# Verify installations "
   ]
  },
  {
   "cell_type": "code",
   "execution_count": 2,
   "id": "a570122a-0fdf-4aa9-b6e9-446c56da1dbc",
   "metadata": {},
   "outputs": [
    {
     "name": "stdout",
     "output_type": "stream",
     "text": [
      "All required packages are installed.\n"
     ]
    }
   ],
   "source": [
    "import pkg_resources\n",
    "installed_packages = {pkg.key for pkg in pkg_resources.working_set}\n",
    "required_packages = {'requests', 'beautifulsoup4'}\n",
    "\n",
    "if required_packages.issubset(installed_packages):\n",
    "    print(\"All required packages are installed.\")\n",
    "else:\n",
    "    print(\"Some required packages are missing.\")"
   ]
  },
  {
   "cell_type": "markdown",
   "id": "b382742b-5624-439d-9be0-8cd8c9207e19",
   "metadata": {},
   "source": [
    "# URL containing Tesla revenue data"
   ]
  },
  {
   "cell_type": "code",
   "execution_count": 3,
   "id": "27da1776-78e1-4e24-aa91-d1990d576944",
   "metadata": {},
   "outputs": [],
   "source": [
    "import requests\n",
    "import pandas as pd\n",
    "\n",
    "url = \"https://www.macrotrends.net/stocks/charts/TSLA/tesla/revenue\"\n",
    "\n",
    "# Set headers to mimic a browser visit\n",
    "headers = {\n",
    "    \"User-Agent\": \"Mozilla/5.0 (Windows NT 10.0; Win64; x64) \"\n",
    "                  \"AppleWebKit/537.36 (KHTML, like Gecko) \"\n",
    "                  \"Chrome/114.0.0.0 Safari/537.36\"\n",
    "}\n"
   ]
  },
  {
   "cell_type": "markdown",
   "id": "a8f0c925-0a69-4b60-aefa-2c2dc6969288",
   "metadata": {},
   "source": [
    "# Request the page content"
   ]
  },
  {
   "cell_type": "code",
   "execution_count": 4,
   "id": "ef6ac91c-81b2-435d-88bc-2438ebc44f5e",
   "metadata": {},
   "outputs": [],
   "source": [
    "response = requests.get(url, headers=headers)"
   ]
  },
  {
   "cell_type": "markdown",
   "id": "d0f0e311-89f7-439f-ac30-f6cb4b44a799",
   "metadata": {},
   "source": [
    "# Use pandas to read all tables from the HTML content"
   ]
  },
  {
   "cell_type": "code",
   "execution_count": null,
   "id": "7b15b842-5497-4263-ae8b-0697b3c97921",
   "metadata": {},
   "outputs": [],
   "source": [
    "tables = pd.read_html(response.text)\n",
    "print(f\"Number of tables found: {len(tables)}\")"
   ]
  },
  {
   "cell_type": "markdown",
   "id": "b490afaf-09df-4692-9b4a-e94174de1809",
   "metadata": {},
   "source": [
    "# Select the Tesla revenue table"
   ]
  },
  {
   "cell_type": "code",
   "execution_count": 6,
   "id": "594d317b-2f18-4e9f-aa87-bc6d9dce8f0b",
   "metadata": {},
   "outputs": [],
   "source": [
    "tesla_revenue_df = tables[1]"
   ]
  },
  {
   "cell_type": "markdown",
   "id": "4a1c6158-a38f-4170-8612-4b608a210198",
   "metadata": {},
   "source": [
    "# Rename columns for clarity"
   ]
  },
  {
   "cell_type": "code",
   "execution_count": 7,
   "id": "a63baa16-8375-453f-ad38-6c6b1f1ef0ef",
   "metadata": {},
   "outputs": [],
   "source": [
    "tesla_revenue_df.columns = ['Date', 'Revenue']"
   ]
  },
  {
   "cell_type": "markdown",
   "id": "1f5ad906-f417-443b-99c6-a1c404742262",
   "metadata": {},
   "source": [
    "# Drop any rows with missing values"
   ]
  },
  {
   "cell_type": "code",
   "execution_count": 8,
   "id": "900d71e7-79b4-4f1f-b98f-07b25281154e",
   "metadata": {},
   "outputs": [],
   "source": [
    "tesla_revenue_df.dropna(inplace=True)"
   ]
  },
  {
   "cell_type": "markdown",
   "id": "82545921-1477-4053-b52e-7fdbd7a2bfda",
   "metadata": {},
   "source": [
    "# Clean the 'Revenue' column: remove '$' and ',' then convert to float"
   ]
  },
  {
   "cell_type": "code",
   "execution_count": 9,
   "id": "71f96268-47cc-49f4-8265-6e989d282f77",
   "metadata": {},
   "outputs": [],
   "source": [
    "tesla_revenue_df.loc[:, 'Revenue'] = (\n",
    "    tesla_revenue_df['Revenue']\n",
    "    .str.replace('$', '', regex=False)\n",
    "    .str.replace(',', '', regex=False)\n",
    "    .astype(float)\n",
    ")\n"
   ]
  },
  {
   "cell_type": "markdown",
   "id": "08023457-1ddf-4ced-bd1e-6b91d414dd89",
   "metadata": {},
   "source": [
    "# Display the last five rows of the cleaned dataframe"
   ]
  },
  {
   "cell_type": "code",
   "execution_count": 10,
   "id": "d500ab8f-b260-43f6-9f51-4d30383edec6",
   "metadata": {},
   "outputs": [
    {
     "data": {
      "text/html": [
       "<div>\n",
       "<style scoped>\n",
       "    .dataframe tbody tr th:only-of-type {\n",
       "        vertical-align: middle;\n",
       "    }\n",
       "\n",
       "    .dataframe tbody tr th {\n",
       "        vertical-align: top;\n",
       "    }\n",
       "\n",
       "    .dataframe thead th {\n",
       "        text-align: right;\n",
       "    }\n",
       "</style>\n",
       "<table border=\"1\" class=\"dataframe\">\n",
       "  <thead>\n",
       "    <tr style=\"text-align: right;\">\n",
       "      <th></th>\n",
       "      <th>Date</th>\n",
       "      <th>Revenue</th>\n",
       "    </tr>\n",
       "  </thead>\n",
       "  <tbody>\n",
       "    <tr>\n",
       "      <th>58</th>\n",
       "      <td>2010-09-30</td>\n",
       "      <td>31.0</td>\n",
       "    </tr>\n",
       "    <tr>\n",
       "      <th>59</th>\n",
       "      <td>2010-06-30</td>\n",
       "      <td>28.0</td>\n",
       "    </tr>\n",
       "    <tr>\n",
       "      <th>60</th>\n",
       "      <td>2010-03-31</td>\n",
       "      <td>21.0</td>\n",
       "    </tr>\n",
       "    <tr>\n",
       "      <th>62</th>\n",
       "      <td>2009-09-30</td>\n",
       "      <td>46.0</td>\n",
       "    </tr>\n",
       "    <tr>\n",
       "      <th>63</th>\n",
       "      <td>2009-06-30</td>\n",
       "      <td>27.0</td>\n",
       "    </tr>\n",
       "  </tbody>\n",
       "</table>\n",
       "</div>"
      ],
      "text/plain": [
       "          Date Revenue\n",
       "58  2010-09-30    31.0\n",
       "59  2010-06-30    28.0\n",
       "60  2010-03-31    21.0\n",
       "62  2009-09-30    46.0\n",
       "63  2009-06-30    27.0"
      ]
     },
     "execution_count": 10,
     "metadata": {},
     "output_type": "execute_result"
    }
   ],
   "source": [
    "tesla_revenue_df.tail()"
   ]
  }
 ],
 "metadata": {
  "kernelspec": {
   "display_name": "Python 3 (ipykernel)",
   "language": "python",
   "name": "python3"
  },
  "language_info": {
   "codemirror_mode": {
    "name": "ipython",
    "version": 3
   },
   "file_extension": ".py",
   "mimetype": "text/x-python",
   "name": "python",
   "nbconvert_exporter": "python",
   "pygments_lexer": "ipython3",
   "version": "3.12.7"
  }
 },
 "nbformat": 4,
 "nbformat_minor": 5
}
