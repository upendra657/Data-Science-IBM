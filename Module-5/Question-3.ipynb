{
 "cells": [
  {
   "cell_type": "markdown",
   "id": "4f1c2767-0d37-49b1-9f87-4325c87ec9d2",
   "metadata": {},
   "source": [
    "# Question 3: Use yfinance to Extract Stock Data for GameStop"
   ]
  },
  {
   "cell_type": "markdown",
   "id": "66d5f907-af01-4cad-90f9-de0e7b1c6ca1",
   "metadata": {},
   "source": [
    "## Step 1: Install necessary libraries (run once)"
   ]
  },
  {
   "cell_type": "code",
   "execution_count": null,
   "id": "82886385-3076-4268-bafa-a61bb6519215",
   "metadata": {},
   "outputs": [],
   "source": [
    "import sys\n",
    "!{sys.executable} -m pip install yfinance pandas --quiet"
   ]
  },
  {
   "cell_type": "markdown",
   "id": "66b086f0-2c6b-44ed-820e-c16e6b1a6075",
   "metadata": {},
   "source": [
    "## Step 2: Import libraries"
   ]
  },
  {
   "cell_type": "code",
   "execution_count": null,
   "id": "854751be-b1ac-42db-9580-2079090d4227",
   "metadata": {},
   "outputs": [],
   "source": [
    "import yfinance as yf\n",
    "import pandas as pd\n",
    "import pkg_resources"
   ]
  },
  {
   "cell_type": "markdown",
   "id": "fc8d0847-4a4c-4457-8e36-3b6bca093726",
   "metadata": {},
   "source": [
    "##  Step 3: Verify installations"
   ]
  },
  {
   "cell_type": "code",
   "execution_count": null,
   "id": "37f537fc-8187-4ebf-b6b4-0c09db99ad4b",
   "metadata": {},
   "outputs": [],
   "source": [
    "required_packages = {'yfinance', 'pandas'}\n",
    "installed_packages = {pkg.key for pkg in pkg_resources.working_set}\n",
    "\n",
    "if required_packages.issubset(installed_packages):\n",
    "    print(\"All required packages are installed.\")\n",
    "else:\n",
    "    missing = required_packages - installed_packages\n",
    "    print(f\"Missing packages: {missing}\")"
   ]
  },
  {
   "cell_type": "markdown",
   "id": "7b29cc67-b193-40d4-b452-eb1a9f990bd3",
   "metadata": {},
   "source": [
    "## Step 4: Create yfinance Ticker object for GameStop (GME)"
   ]
  },
  {
   "cell_type": "code",
   "execution_count": null,
   "id": "ed726054-ef55-4e7b-b2aa-cc601a71c00b",
   "metadata": {},
   "outputs": [],
   "source": [
    "gme = yf.Ticker(\"GME\")"
   ]
  },
  {
   "cell_type": "code",
   "execution_count": null,
   "id": "6b9b41b4-9a77-44ac-9d30-06b962a8a454",
   "metadata": {},
   "outputs": [],
   "source": []
  }
 ],
 "metadata": {
  "kernelspec": {
   "display_name": "Python 3 (ipykernel)",
   "language": "python",
   "name": "python3"
  },
  "language_info": {
   "codemirror_mode": {
    "name": "ipython",
    "version": 3
   },
   "file_extension": ".py",
   "mimetype": "text/x-python",
   "name": "python",
   "nbconvert_exporter": "python",
   "pygments_lexer": "ipython3",
   "version": "3.12.7"
  }
 },
 "nbformat": 4,
 "nbformat_minor": 5
}
